{
 "cells": [
  {
   "cell_type": "code",
   "execution_count": null,
   "id": "3f4d3bd7",
   "metadata": {},
   "outputs": [],
   "source": [
    "import openai\n",
    "import langchain\n",
    "import pinecone \n",
    "from langchain.document_loaders import PyPDFDirectoryLoader\n",
    "from langchain.document_loaders import PyPDFLoader\n",
    "from langchain.text_splitter import RecursiveCharacterTextSplitter\n",
    "from langchain.embeddings.openai import OpenAIEmbeddings\n",
    "from langchain.vectorstores import Pinecone\n",
    "from langchain.llms import OpenAI\n",
    "import requests\n",
    "from pypdf import PdfReader\n",
    "import io\n",
    "import os\n",
    "import tempfile"
   ]
  },
  {
   "cell_type": "code",
   "execution_count": null,
   "id": "c72d3b6e",
   "metadata": {},
   "outputs": [],
   "source": [
    "def read_doc(pdf_url):\n",
    "    try:\n",
    "        response = requests.get(pdf_url)\n",
    "        response.raise_for_status()\n",
    "        \n",
    "        with tempfile.NamedTemporaryFile(delete=False, suffix=\".pdf\") as tmp_file:\n",
    "            tmp_file.write(response.content)\n",
    "            tmp_file_path = tmp_file.name\n",
    "        loader = PyPDFLoader(tmp_file_path)\n",
    "        documents = loader.load()\n",
    "        \n",
    "        return documents\n",
    "    \n",
    "    except requests.exceptions.RequestException as e:\n",
    "        print(f\"Error downloading the PDF: {e}\")\n",
    "    except Exception as e:\n",
    "        print(f\"Error processing the PDF: {e}\")"
   ]
  },
  {
   "cell_type": "code",
   "execution_count": null,
   "id": "fb89a064",
   "metadata": {},
   "outputs": [],
   "source": [
    "def chunk_data(docs, chunk_size = 800, chunk_overlap = 50):\n",
    "    text_splitter = RecursiveCharacterTextSplitter(chunk_size = chunk_size, chunk_overlap = chunk_overlap)\n",
    "    doc = text_splitter.split_documents(docs)\n",
    "    return doc"
   ]
  },
  {
   "cell_type": "code",
   "execution_count": null,
   "id": "068dc639",
   "metadata": {},
   "outputs": [],
   "source": [
    "link = \"https://www.indiabudget.gov.in/doc/budget_speech.pdf\"\n",
    "doc = read_doc(link)\n",
    "doc\n",
    "#len(doc)"
   ]
  },
  {
   "cell_type": "code",
   "execution_count": null,
   "id": "d47705b0",
   "metadata": {
    "scrolled": true
   },
   "outputs": [],
   "source": [
    "os.environ['OPENAI_API_KEY'] = 'sk-proj-7JM7dbkrCqKOWux9s1S2T3BlbkFJQKo8xZXsvRLSbfVGNiCF'\n",
    "embeddings = OpenAIEmbeddings(api_key=os.environ['OPENAI_API_KEY'])"
   ]
  },
  {
   "cell_type": "code",
   "execution_count": null,
   "id": "d2b60ce7",
   "metadata": {},
   "outputs": [],
   "source": [
    "vectors = embeddings.embed_query(\"how are you?\")\n",
    "len(vectors)"
   ]
  },
  {
   "cell_type": "code",
   "execution_count": null,
   "id": "ecdb935a",
   "metadata": {},
   "outputs": [],
   "source": [
    "os.environ['PINECONE_API_KEY'] = 'fdea4408-8b2b-4f96-9f7f-83c9e355a2aa'\n",
    "from pinecone import Pinecone\n",
    "Pinecone(pi_key=os.environ.get(\"PINECONE_API_KEY\"))\n"
   ]
  },
  {
   "cell_type": "code",
   "execution_count": null,
   "id": "3f4008b7",
   "metadata": {},
   "outputs": [],
   "source": [
    "from langchain.vectorstores import Pinecone\n",
    "index = Pinecone.from_documents(doc, embeddings, index_name = \"business-qa-bot\")"
   ]
  },
  {
   "cell_type": "code",
   "execution_count": null,
   "id": "00348f71",
   "metadata": {},
   "outputs": [],
   "source": [
    "def retrieve_query(query, k = 2):\n",
    "    matching_results = index.similarity_search(query, k = k)\n",
    "    return matching_results"
   ]
  },
  {
   "cell_type": "code",
   "execution_count": null,
   "id": "6a0a2031",
   "metadata": {},
   "outputs": [],
   "source": [
    "from langchain.chains.question_answering import load_qa_chain\n",
    "from langchain import OpenAI"
   ]
  },
  {
   "cell_type": "code",
   "execution_count": null,
   "id": "19a91d14",
   "metadata": {},
   "outputs": [],
   "source": [
    "llm = OpenAI(model_name = \"text-embedding-ada-002\", temperature = 0.5)\n",
    "chain = load_qa_chain(llm, chain_type = \"stuff\")"
   ]
  },
  {
   "cell_type": "code",
   "execution_count": null,
   "id": "115026d5",
   "metadata": {},
   "outputs": [],
   "source": [
    "def retrieve_answers(query):\n",
    "    doc_search = retrieve_query(query)\n",
    "    print(doc_search)\n",
    "    response = chain.run(input_documents = doc_search, question = query)\n",
    "    return response"
   ]
  },
  {
   "cell_type": "code",
   "execution_count": null,
   "id": "483d1a0c",
   "metadata": {},
   "outputs": [],
   "source": [
    "our_query = \"How much the agriculture target will be increased by how many crore?\"\n",
    "answer  = retrieve_answers(our_query)\n",
    "print(answer)"
   ]
  },
  {
   "cell_type": "code",
   "execution_count": null,
   "id": "4a3ad835",
   "metadata": {},
   "outputs": [],
   "source": [
    "import openai\n",
    "import langchain\n",
    "import pinecone \n",
    "from langchain.document_loaders import PyPDFDirectoryLoader\n",
    "from langchain.document_loaders import PyPDFLoader\n",
    "from langchain.text_splitter import RecursiveCharacterTextSplitter\n",
    "from langchain.embeddings.openai import OpenAIEmbeddings\n",
    "from langchain.vectorstores import Pinecone\n",
    "from langchain.llms import OpenAI\n",
    "import requests\n",
    "from pypdf import PdfReader\n",
    "import io\n",
    "import os\n",
    "import tempfile\n",
    "def read_doc(pdf_url):\n",
    "    try:\n",
    "        response = requests.get(pdf_url)\n",
    "        response.raise_for_status()\n",
    "        \n",
    "        with tempfile.NamedTemporaryFile(delete=False, suffix=\".pdf\") as tmp_file:\n",
    "            tmp_file.write(response.content)\n",
    "            tmp_file_path = tmp_file.name\n",
    "        loader = PyPDFLoader(tmp_file_path)\n",
    "        documents = loader.load()\n",
    "        \n",
    "        return documents\n",
    "    \n",
    "    except requests.exceptions.RequestException as e:\n",
    "        print(f\"Error downloading the PDF: {e}\")\n",
    "    except Exception as e:\n",
    "        print(f\"Error processing the PDF: {e}\")\n",
    "\n",
    "\n",
    "def chunk_data(docs, chunk_size = 800, chunk_overlap = 50):\n",
    "    text_splitter = RecursiveCharacterTextSplitter(chunk_size = chunk_size, chunk_overlap = chunk_overlap)\n",
    "    doc = text_splitter.split_documents(docs)\n",
    "    return doc\n",
    "link = \"https://www.indiabudget.gov.in/doc/budget_speech.pdf\"\n",
    "doc = read_doc(link)\n",
    "doc\n",
    "#len(doc)\n",
    "\n",
    "os.environ['OPENAI_API_KEY'] = 'sk-proj-7JM7dbkrCqKOWux9s1S2T3BlbkFJQKo8xZXsvRLSbfVGNiCF'\n",
    "embeddings = OpenAIEmbeddings(api_key=os.environ['OPENAI_API_KEY'])\n",
    "\n",
    "vectors = embeddings.embed_query(\"how are you?\")\n",
    "len(vectors)\n",
    "\n",
    "os.environ['PINECONE_API_KEY'] = 'fdea4408-8b2b-4f96-9f7f-83c9e355a2aa'\n",
    "from pinecone import Pinecone\n",
    "Pinecone(pi_key=os.environ.get(\"PINECONE_API_KEY\"))\n",
    "\n",
    "from langchain.vectorstores import Pinecone\n",
    "index = Pinecone.from_documents(doc, embeddings, index_name = \"business-qa-bot\")\n",
    "\n",
    "def retrieve_query(query, k = 2):\n",
    "    matching_results = index.similarity_search(query, k = k)\n",
    "    return matching_results\n",
    "\n",
    "from langchain.chains.question_answering import load_qa_chain\n",
    "from langchain import OpenAI\n",
    "\n",
    "llm = OpenAI(model_name = \"text-embedding-ada-002\", temperature = 0.5)\n",
    "chain = load_qa_chain(llm, chain_type = \"stuff\")\n",
    "\n",
    "def retrieve_answers(query):\n",
    "    doc_search = retrieve_query(query)\n",
    "    print(doc_search)\n",
    "    response = chain.run(input_documents = doc_search, question = query)\n",
    "    return response\n",
    "\n",
    "our_query = \"How much the agriculture target will be increased by how many crore?\"\n",
    "answer  = retrieve_answers(our_query)\n",
    "print(answer)"
   ]
  }
 ],
 "metadata": {
  "kernelspec": {
   "display_name": "Python 3 (ipykernel)",
   "language": "python",
   "name": "python3"
  },
  "language_info": {
   "codemirror_mode": {
    "name": "ipython",
    "version": 3
   },
   "file_extension": ".py",
   "mimetype": "text/x-python",
   "name": "python",
   "nbconvert_exporter": "python",
   "pygments_lexer": "ipython3",
   "version": "3.11.5"
  }
 },
 "nbformat": 4,
 "nbformat_minor": 5
}
